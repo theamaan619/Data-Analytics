{
 "cells": [
  {
   "cell_type": "markdown",
   "metadata": {},
   "source": [
    "# Airline Project"
   ]
  },
  {
   "cell_type": "code",
   "execution_count": 14,
   "metadata": {},
   "outputs": [],
   "source": [
    "import numpy  as np\n",
    "import pandas as pd"
   ]
  },
  {
   "cell_type": "code",
   "execution_count": 15,
   "metadata": {},
   "outputs": [],
   "source": [
    "data = {\n",
    "  \"Flight_ID\":[f\"FL{str(i).zfill(4)}\" for i in range(1,101)],\n",
    "  \"Airline\": np.random.choice([\"Airline A\",\"Airline B\",\"Airline C\",\"Airline D\"],size=100),\n",
    "  \"Departure_Airport\": np.random.choice([\"JFK\",\"LAX\",\"ORD\",\"ATL\",\"DFW\"],size=100),\n",
    "  \"Arrival_Airport\": np.random.choice([\"SFO\",\"SEA\",\"MIA\",\"BOS\",\"DEN\"],size=100),\n",
    "  \"Departure_Time\":pd.date_range(\"2025-01-01 08:00:00\",periods=100,freq=\"h\"),\n",
    "  \"Arrival\":pd.date_range(\"2025-01-01 12:00:00\",periods=100,freq=\"h\"),\n",
    "  \"Delay\":np.random.randint(-30,180,size=100)\n",
    "}"
   ]
  },
  {
   "cell_type": "code",
   "execution_count": 22,
   "metadata": {},
   "outputs": [],
   "source": [
    "df = pd.DataFrame(data)"
   ]
  },
  {
   "cell_type": "code",
   "execution_count": 17,
   "metadata": {},
   "outputs": [
    {
     "data": {
      "text/html": [
       "<div>\n",
       "<style scoped>\n",
       "    .dataframe tbody tr th:only-of-type {\n",
       "        vertical-align: middle;\n",
       "    }\n",
       "\n",
       "    .dataframe tbody tr th {\n",
       "        vertical-align: top;\n",
       "    }\n",
       "\n",
       "    .dataframe thead th {\n",
       "        text-align: right;\n",
       "    }\n",
       "</style>\n",
       "<table border=\"1\" class=\"dataframe\">\n",
       "  <thead>\n",
       "    <tr style=\"text-align: right;\">\n",
       "      <th></th>\n",
       "      <th>Flight_ID</th>\n",
       "      <th>Airline</th>\n",
       "      <th>Departure_Airport</th>\n",
       "      <th>Arrival_Airport</th>\n",
       "      <th>Departure_Time</th>\n",
       "      <th>Arrival</th>\n",
       "      <th>Delay</th>\n",
       "    </tr>\n",
       "  </thead>\n",
       "  <tbody>\n",
       "    <tr>\n",
       "      <th>0</th>\n",
       "      <td>FL0001</td>\n",
       "      <td>Airline D</td>\n",
       "      <td>JFK</td>\n",
       "      <td>BOS</td>\n",
       "      <td>2025-01-01 08:00:00</td>\n",
       "      <td>2025-01-01 12:00:00</td>\n",
       "      <td>86</td>\n",
       "    </tr>\n",
       "    <tr>\n",
       "      <th>1</th>\n",
       "      <td>FL0002</td>\n",
       "      <td>Airline B</td>\n",
       "      <td>JFK</td>\n",
       "      <td>SEA</td>\n",
       "      <td>2025-01-01 09:00:00</td>\n",
       "      <td>2025-01-01 13:00:00</td>\n",
       "      <td>107</td>\n",
       "    </tr>\n",
       "    <tr>\n",
       "      <th>2</th>\n",
       "      <td>FL0003</td>\n",
       "      <td>Airline B</td>\n",
       "      <td>DFW</td>\n",
       "      <td>SFO</td>\n",
       "      <td>2025-01-01 10:00:00</td>\n",
       "      <td>2025-01-01 14:00:00</td>\n",
       "      <td>120</td>\n",
       "    </tr>\n",
       "    <tr>\n",
       "      <th>3</th>\n",
       "      <td>FL0004</td>\n",
       "      <td>Airline D</td>\n",
       "      <td>DFW</td>\n",
       "      <td>SFO</td>\n",
       "      <td>2025-01-01 11:00:00</td>\n",
       "      <td>2025-01-01 15:00:00</td>\n",
       "      <td>-4</td>\n",
       "    </tr>\n",
       "    <tr>\n",
       "      <th>4</th>\n",
       "      <td>FL0005</td>\n",
       "      <td>Airline D</td>\n",
       "      <td>LAX</td>\n",
       "      <td>DEN</td>\n",
       "      <td>2025-01-01 12:00:00</td>\n",
       "      <td>2025-01-01 16:00:00</td>\n",
       "      <td>97</td>\n",
       "    </tr>\n",
       "    <tr>\n",
       "      <th>...</th>\n",
       "      <td>...</td>\n",
       "      <td>...</td>\n",
       "      <td>...</td>\n",
       "      <td>...</td>\n",
       "      <td>...</td>\n",
       "      <td>...</td>\n",
       "      <td>...</td>\n",
       "    </tr>\n",
       "    <tr>\n",
       "      <th>95</th>\n",
       "      <td>FL0096</td>\n",
       "      <td>Airline B</td>\n",
       "      <td>ATL</td>\n",
       "      <td>DEN</td>\n",
       "      <td>2025-01-05 07:00:00</td>\n",
       "      <td>2025-01-05 11:00:00</td>\n",
       "      <td>78</td>\n",
       "    </tr>\n",
       "    <tr>\n",
       "      <th>96</th>\n",
       "      <td>FL0097</td>\n",
       "      <td>Airline B</td>\n",
       "      <td>JFK</td>\n",
       "      <td>SEA</td>\n",
       "      <td>2025-01-05 08:00:00</td>\n",
       "      <td>2025-01-05 12:00:00</td>\n",
       "      <td>31</td>\n",
       "    </tr>\n",
       "    <tr>\n",
       "      <th>97</th>\n",
       "      <td>FL0098</td>\n",
       "      <td>Airline A</td>\n",
       "      <td>ATL</td>\n",
       "      <td>SEA</td>\n",
       "      <td>2025-01-05 09:00:00</td>\n",
       "      <td>2025-01-05 13:00:00</td>\n",
       "      <td>160</td>\n",
       "    </tr>\n",
       "    <tr>\n",
       "      <th>98</th>\n",
       "      <td>FL0099</td>\n",
       "      <td>Airline A</td>\n",
       "      <td>JFK</td>\n",
       "      <td>SEA</td>\n",
       "      <td>2025-01-05 10:00:00</td>\n",
       "      <td>2025-01-05 14:00:00</td>\n",
       "      <td>21</td>\n",
       "    </tr>\n",
       "    <tr>\n",
       "      <th>99</th>\n",
       "      <td>FL0100</td>\n",
       "      <td>Airline C</td>\n",
       "      <td>LAX</td>\n",
       "      <td>SEA</td>\n",
       "      <td>2025-01-05 11:00:00</td>\n",
       "      <td>2025-01-05 15:00:00</td>\n",
       "      <td>86</td>\n",
       "    </tr>\n",
       "  </tbody>\n",
       "</table>\n",
       "<p>100 rows × 7 columns</p>\n",
       "</div>"
      ],
      "text/plain": [
       "   Flight_ID    Airline Departure_Airport Arrival_Airport      Departure_Time  \\\n",
       "0     FL0001  Airline D               JFK             BOS 2025-01-01 08:00:00   \n",
       "1     FL0002  Airline B               JFK             SEA 2025-01-01 09:00:00   \n",
       "2     FL0003  Airline B               DFW             SFO 2025-01-01 10:00:00   \n",
       "3     FL0004  Airline D               DFW             SFO 2025-01-01 11:00:00   \n",
       "4     FL0005  Airline D               LAX             DEN 2025-01-01 12:00:00   \n",
       "..       ...        ...               ...             ...                 ...   \n",
       "95    FL0096  Airline B               ATL             DEN 2025-01-05 07:00:00   \n",
       "96    FL0097  Airline B               JFK             SEA 2025-01-05 08:00:00   \n",
       "97    FL0098  Airline A               ATL             SEA 2025-01-05 09:00:00   \n",
       "98    FL0099  Airline A               JFK             SEA 2025-01-05 10:00:00   \n",
       "99    FL0100  Airline C               LAX             SEA 2025-01-05 11:00:00   \n",
       "\n",
       "               Arrival  Delay  \n",
       "0  2025-01-01 12:00:00     86  \n",
       "1  2025-01-01 13:00:00    107  \n",
       "2  2025-01-01 14:00:00    120  \n",
       "3  2025-01-01 15:00:00     -4  \n",
       "4  2025-01-01 16:00:00     97  \n",
       "..                 ...    ...  \n",
       "95 2025-01-05 11:00:00     78  \n",
       "96 2025-01-05 12:00:00     31  \n",
       "97 2025-01-05 13:00:00    160  \n",
       "98 2025-01-05 14:00:00     21  \n",
       "99 2025-01-05 15:00:00     86  \n",
       "\n",
       "[100 rows x 7 columns]"
      ]
     },
     "execution_count": 17,
     "metadata": {},
     "output_type": "execute_result"
    }
   ],
   "source": [
    "df"
   ]
  },
  {
   "cell_type": "code",
   "execution_count": 18,
   "metadata": {},
   "outputs": [
    {
     "data": {
      "text/plain": [
       "Flight_ID            0\n",
       "Airline              0\n",
       "Departure_Airport    0\n",
       "Arrival_Airport      0\n",
       "Departure_Time       0\n",
       "Arrival              0\n",
       "Delay                0\n",
       "dtype: int64"
      ]
     },
     "execution_count": 18,
     "metadata": {},
     "output_type": "execute_result"
    }
   ],
   "source": [
    "df.isnull().sum()"
   ]
  },
  {
   "cell_type": "code",
   "execution_count": 19,
   "metadata": {},
   "outputs": [
    {
     "name": "stdout",
     "output_type": "stream",
     "text": [
      "Average Delay by Airline\n",
      "Airline\n",
      "Airline A    75.842105\n",
      "Airline B    67.121212\n",
      "Airline C    75.925926\n",
      "Airline D    83.571429\n",
      "Name: Delay, dtype: float64\n"
     ]
    }
   ],
   "source": [
    "df[\"Delay\"] = df[\"Delay\"].apply(lambda x: max(0,x))\n",
    "average_delay_airline = df.groupby(\"Airline\")[\"Delay\"].mean()\n",
    "print(\"Average Delay by Airline\")\n",
    "print(average_delay_airline)"
   ]
  },
  {
   "cell_type": "code",
   "execution_count": 23,
   "metadata": {},
   "outputs": [
    {
     "name": "stdout",
     "output_type": "stream",
     "text": [
      "\n",
      "Average Delay by Departure Airport\n",
      "Departure_Airport\n",
      "ATL    86.050000\n",
      "DFW    58.916667\n",
      "JFK    68.739130\n",
      "LAX    63.700000\n",
      "ORD    83.521739\n",
      "Name: Delay, dtype: float64\n"
     ]
    }
   ],
   "source": [
    "average_delay_airport = df.groupby(\"Departure_Airport\")[\"Delay\"].mean()\n",
    "print(\"\\nAverage Delay by Departure Airport\")\n",
    "print(average_delay_airport)"
   ]
  },
  {
   "cell_type": "code",
   "execution_count": 26,
   "metadata": {},
   "outputs": [
    {
     "name": "stdout",
     "output_type": "stream",
     "text": [
      "Departure_Airport\n",
      "ATL    86.050000\n",
      "DFW    58.916667\n",
      "JFK    68.739130\n",
      "LAX    63.700000\n",
      "ORD    83.521739\n",
      "Name: Delay, dtype: float64\n",
      "\n",
      "Airline with Least Delay:Airline B(67.12) mins\n",
      "\n",
      "Airline with Most Delay:Airline D(83.57) mins\n",
      "Mean Delay is 72.74\n"
     ]
    }
   ],
   "source": [
    "print(average_delay_airport)\n",
    "least_delay_airline = average_delay_airline.idxmin()\n",
    "most_delay_airline = average_delay_airline.idxmax()\n",
    "print(f\"\\nAirline with Least Delay:{least_delay_airline}({average_delay_airline[least_delay_airline]:.2f}) mins\")\n",
    "\n",
    "print(f\"\\nAirline with Most Delay:{most_delay_airline}({average_delay_airline[most_delay_airline]:.2f}) mins\")\n",
    "mean_delay = np.mean(df[\"Delay\"])\n",
    "print(f\"\\nMean Delay is {mean_delay}\")"
   ]
  },
  {
   "cell_type": "code",
   "execution_count": 27,
   "metadata": {},
   "outputs": [],
   "source": [
    "median_display = np.median(df[\"Delay\"])\n",
    "\n",
    "standard_deviation_delay = np.std(df[\"Delay\"])\n",
    "\n",
    "percentile_90 = np.percentile(df[\"Delay\"],90)"
   ]
  },
  {
   "cell_type": "code",
   "execution_count": 30,
   "metadata": {},
   "outputs": [
    {
     "name": "stdout",
     "output_type": "stream",
     "text": [
      "\n",
      "Delay Statistics\n",
      "Mean Delay: 72.74 mins\n",
      "Median Delay: 72.00 mins\n",
      "Standard Deviation: 59.71 mins\n",
      "90th Percentile: 155.20 mins\n"
     ]
    }
   ],
   "source": [
    "print(\"\\nDelay Statistics\")\n",
    "\n",
    "print(f\"Mean Delay: {mean_delay:.2f} mins\")\n",
    "\n",
    "print(f\"Median Delay: {median_display:.2f} mins\")\n",
    "\n",
    "print(f\"Standard Deviation: {standard_deviation_delay:.2f} mins\")\n",
    "\n",
    "print(f\"90th Percentile: {percentile_90:.2f} mins\")"
   ]
  }
 ],
 "metadata": {
  "kernelspec": {
   "display_name": "Python 3",
   "language": "python",
   "name": "python3"
  },
  "language_info": {
   "codemirror_mode": {
    "name": "ipython",
    "version": 3
   },
   "file_extension": ".py",
   "mimetype": "text/x-python",
   "name": "python",
   "nbconvert_exporter": "python",
   "pygments_lexer": "ipython3",
   "version": "3.12.7"
  }
 },
 "nbformat": 4,
 "nbformat_minor": 2
}
